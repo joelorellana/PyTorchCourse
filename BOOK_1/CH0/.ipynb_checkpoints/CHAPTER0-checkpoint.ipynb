{
 "cells": [
  {
   "cell_type": "code",
   "execution_count": 1,
   "id": "c8fe07c5-1f39-4a84-b004-139e9bb64bc8",
   "metadata": {},
   "outputs": [],
   "source": [
    "import numpy as np\n",
    "from sklearn.linear_model import LinearRegression\n",
    "from sklearn.preprocessing import StandardScaler"
   ]
  },
  {
   "cell_type": "markdown",
   "id": "2c866f10-cdc0-4d55-b4d0-6ecb56c67dc3",
   "metadata": {},
   "source": [
    "## Syntetic Data Generation"
   ]
  },
  {
   "cell_type": "code",
   "execution_count": 3,
   "id": "bf5c8c63-5239-4a61-ae01-f35b620d20cf",
   "metadata": {},
   "outputs": [],
   "source": [
    "true_b = 1\n",
    "true_w = 2\n",
    "N = 100\n",
    "\n",
    "# Data Generation\n",
    "np.random.seed(42)\n",
    "x = np.random.rand(N,1)\n",
    "epsilon = (.1 * np.random.randn(N,1))\n",
    "y = true_b + true_w * x + epsilon"
   ]
  },
  {
   "cell_type": "code",
   "execution_count": null,
   "id": "e1799dcc-b21a-41ef-af0f-5c7a1617c790",
   "metadata": {},
   "outputs": [],
   "source": []
  }
 ],
 "metadata": {
  "kernelspec": {
   "display_name": "Python 3 (ipykernel)",
   "language": "python",
   "name": "python3"
  },
  "language_info": {
   "codemirror_mode": {
    "name": "ipython",
    "version": 3
   },
   "file_extension": ".py",
   "mimetype": "text/x-python",
   "name": "python",
   "nbconvert_exporter": "python",
   "pygments_lexer": "ipython3",
   "version": "3.11.5"
  }
 },
 "nbformat": 4,
 "nbformat_minor": 5
}
