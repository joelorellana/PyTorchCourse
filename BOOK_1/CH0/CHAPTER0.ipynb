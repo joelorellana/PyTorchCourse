{
 "cells": [
  {
   "cell_type": "code",
   "execution_count": 1,
   "id": "c8fe07c5-1f39-4a84-b004-139e9bb64bc8",
   "metadata": {},
   "outputs": [],
   "source": [
    "import numpy as np\n",
    "from sklearn.linear_model import LinearRegression\n",
    "from sklearn.preprocessing import StandardScaler"
   ]
  },
  {
   "cell_type": "markdown",
   "id": "2c866f10-cdc0-4d55-b4d0-6ecb56c67dc3",
   "metadata": {},
   "source": [
    "## Syntetic Data Generation"
   ]
  },
  {
   "cell_type": "code",
   "execution_count": 2,
   "id": "bf5c8c63-5239-4a61-ae01-f35b620d20cf",
   "metadata": {},
   "outputs": [],
   "source": [
    "true_b = 1\n",
    "true_w = 2\n",
    "N = 100\n",
    "\n",
    "# Data Generation\n",
    "np.random.seed(42)\n",
    "x = np.random.rand(N,1)\n",
    "epsilon = (.1 * np.random.randn(N,1))\n",
    "y = true_b + true_w * x + epsilon"
   ]
  },
  {
   "cell_type": "markdown",
   "id": "67fd66d8-11cc-477e-8e86-4850a4ff409c",
   "metadata": {},
   "source": [
    "## Train-Validation Split"
   ]
  },
  {
   "cell_type": "code",
   "execution_count": 3,
   "id": "38ca1e22-0f02-48d8-98ff-e39b53becd50",
   "metadata": {},
   "outputs": [],
   "source": [
    "# Shuffle the indices\n",
    "idx = np.arange(N)\n",
    "np.random.shuffle(idx)\n",
    "\n",
    "# Use first 80 random indices for train\n",
    "train_idx = idx[:int(80)]\n",
    "# using the remaining indices for validation \n",
    "val_idx = idx[int(N*0.8):]\n",
    "\n",
    "# generating a training and validation set\n",
    "x_train, y_train = x[train_idx], y[train_idx]\n",
    "x_val, y_val = x[val_idx], y[val_idx]"
   ]
  },
  {
   "cell_type": "markdown",
   "id": "e6e3179c",
   "metadata": {},
   "source": [
    "## Step 0: Random Initialization"
   ]
  },
  {
   "cell_type": "code",
   "execution_count": 4,
   "id": "32de0052",
   "metadata": {},
   "outputs": [
    {
     "name": "stdout",
     "output_type": "stream",
     "text": [
      "[0.49671415] [-0.1382643]\n"
     ]
    }
   ],
   "source": [
    "np.random.seed(42)\n",
    "b = np.random.randn(1)\n",
    "w = np.random.randn(1)\n",
    "\n",
    "print(b, w)"
   ]
  },
  {
   "cell_type": "markdown",
   "id": "e24ffa76",
   "metadata": {},
   "source": [
    "## Step 1: Compute Model's Predictions"
   ]
  },
  {
   "cell_type": "code",
   "execution_count": 5,
   "id": "dfb68fc0",
   "metadata": {},
   "outputs": [],
   "source": [
    "# Step 1: Compute our model's predictions output - forward pass\n",
    "y_hat = b + w * x_train"
   ]
  },
  {
   "cell_type": "code",
   "execution_count": 6,
   "id": "fbc63dc4",
   "metadata": {},
   "outputs": [
    {
     "name": "stdout",
     "output_type": "stream",
     "text": [
      "2.7421577700550976\n"
     ]
    }
   ],
   "source": [
    "# Step 2: Compute the loss\n",
    "# BATCH gradient descent because we are using all data points\n",
    "error = (y_hat - y_train)\n",
    "# for regression we use MSE\n",
    "loss = (error ** 2).mean()\n",
    "print(loss)"
   ]
  },
  {
   "cell_type": "code",
   "execution_count": 7,
   "id": "c662107f",
   "metadata": {},
   "outputs": [
    {
     "data": {
      "text/plain": [
       "((101, 101), (101, 101))"
      ]
     },
     "execution_count": 7,
     "metadata": {},
     "output_type": "execute_result"
    }
   ],
   "source": [
    "## Loss Surface\n",
    "## calculing error for different possible values of b and w\n",
    "b_range = np.linspace(true_b - 3, true_b + 3, 101)\n",
    "w_range = np.linspace(true_w - 3, true_w + 3, 101)\n",
    "# meshgrid creates a grid of b and w values\n",
    "bs, ws = np.meshgrid(b_range, w_range)\n",
    "bs.shape, ws.shape"
   ]
  },
  {
   "cell_type": "code",
   "execution_count": 8,
   "id": "95f9d009",
   "metadata": {},
   "outputs": [
    {
     "data": {
      "text/plain": [
       "array([[-2.  , -1.94, -1.88, ...,  3.88,  3.94,  4.  ],\n",
       "       [-2.  , -1.94, -1.88, ...,  3.88,  3.94,  4.  ],\n",
       "       [-2.  , -1.94, -1.88, ...,  3.88,  3.94,  4.  ],\n",
       "       ...,\n",
       "       [-2.  , -1.94, -1.88, ...,  3.88,  3.94,  4.  ],\n",
       "       [-2.  , -1.94, -1.88, ...,  3.88,  3.94,  4.  ],\n",
       "       [-2.  , -1.94, -1.88, ...,  3.88,  3.94,  4.  ]])"
      ]
     },
     "execution_count": 8,
     "metadata": {},
     "output_type": "execute_result"
    }
   ],
   "source": [
    "bs"
   ]
  },
  {
   "cell_type": "code",
   "execution_count": 9,
   "id": "72c9f2e3",
   "metadata": {},
   "outputs": [
    {
     "data": {
      "text/plain": [
       "(101, 101)"
      ]
     },
     "execution_count": 9,
     "metadata": {},
     "output_type": "execute_result"
    }
   ],
   "source": [
    "dummy_x = x_train[0]\n",
    "dummy_yhat = bs + ws * dummy_x\n",
    "dummy_yhat.shape"
   ]
  },
  {
   "cell_type": "code",
   "execution_count": 10,
   "id": "b5b13d32",
   "metadata": {},
   "outputs": [
    {
     "data": {
      "text/plain": [
       "(80, 101, 101)"
      ]
     },
     "execution_count": 10,
     "metadata": {},
     "output_type": "execute_result"
    }
   ],
   "source": [
    "all_predictions = np.apply_along_axis(\n",
    "    func1d= lambda x: bs + ws * x,\n",
    "    axis=1,\n",
    "    arr = x_train\n",
    ")\n",
    "all_predictions.shape"
   ]
  },
  {
   "cell_type": "code",
   "execution_count": 11,
   "id": "daf9cbb4",
   "metadata": {},
   "outputs": [
    {
     "data": {
      "text/plain": [
       "(80, 1, 1)"
      ]
     },
     "execution_count": 11,
     "metadata": {},
     "output_type": "execute_result"
    }
   ],
   "source": [
    "all_labels = y_train.reshape(-1, 1, 1)\n",
    "all_labels.shape"
   ]
  },
  {
   "cell_type": "code",
   "execution_count": 12,
   "id": "6957213d",
   "metadata": {},
   "outputs": [
    {
     "data": {
      "text/plain": [
       "(80, 101, 101)"
      ]
     },
     "execution_count": 12,
     "metadata": {},
     "output_type": "execute_result"
    }
   ],
   "source": [
    "all_errors = all_predictions - all_labels\n",
    "all_errors.shape"
   ]
  },
  {
   "cell_type": "code",
   "execution_count": 13,
   "id": "f5e68296",
   "metadata": {},
   "outputs": [
    {
     "data": {
      "text/plain": [
       "(101, 101)"
      ]
     },
     "execution_count": 13,
     "metadata": {},
     "output_type": "execute_result"
    }
   ],
   "source": [
    "all_losses = (all_errors ** 2).mean(axis=0)\n",
    "all_losses.shape"
   ]
  },
  {
   "cell_type": "markdown",
   "id": "734ff069",
   "metadata": {},
   "source": [
    "## Step 3: Compute Gradients"
   ]
  },
  {
   "cell_type": "code",
   "execution_count": 14,
   "id": "f96db3ad",
   "metadata": {},
   "outputs": [
    {
     "name": "stdout",
     "output_type": "stream",
     "text": [
      "-3.044811379650508 -1.8337537171510832\n"
     ]
    }
   ],
   "source": [
    "b_grad = 2 * error.mean()\n",
    "w_grad = 2 * (error * x_train).mean()\n",
    "print(b_grad, w_grad)"
   ]
  },
  {
   "cell_type": "markdown",
   "id": "bfb57019",
   "metadata": {},
   "source": [
    "## Step 4: Update Parameters"
   ]
  },
  {
   "cell_type": "code",
   "execution_count": 15,
   "id": "ad8641c3",
   "metadata": {},
   "outputs": [
    {
     "name": "stdout",
     "output_type": "stream",
     "text": [
      "[0.49671415] [-0.1382643]\n"
     ]
    }
   ],
   "source": [
    "# sets learning rate as eta\n",
    "lr = 0.1\n",
    "print(b, w)\n",
    "# updating parameters\n",
    "b = b - lr * b_grad\n",
    "w = w - lr * w_grad\n"
   ]
  },
  {
   "cell_type": "code",
   "execution_count": 16,
   "id": "55742848",
   "metadata": {},
   "outputs": [
    {
     "name": "stdout",
     "output_type": "stream",
     "text": [
      "[0.80119529] [0.04511107]\n"
     ]
    }
   ],
   "source": [
    "print(b, w)"
   ]
  },
  {
   "cell_type": "code",
   "execution_count": null,
   "id": "1afe00f4",
   "metadata": {},
   "outputs": [],
   "source": []
  }
 ],
 "metadata": {
  "kernelspec": {
   "display_name": "Python 3 (ipykernel)",
   "language": "python",
   "name": "python3"
  },
  "language_info": {
   "codemirror_mode": {
    "name": "ipython",
    "version": 3
   },
   "file_extension": ".py",
   "mimetype": "text/x-python",
   "name": "python",
   "nbconvert_exporter": "python",
   "pygments_lexer": "ipython3",
   "version": "3.11.5"
  },
  "widgets": {
   "application/vnd.jupyter.widget-state+json": {
    "state": {},
    "version_major": 2,
    "version_minor": 0
   }
  }
 },
 "nbformat": 4,
 "nbformat_minor": 5
}
