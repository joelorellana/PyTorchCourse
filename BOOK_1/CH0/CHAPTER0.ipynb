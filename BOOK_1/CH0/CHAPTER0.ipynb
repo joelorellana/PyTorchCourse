{
 "cells": [
  {
   "cell_type": "code",
   "execution_count": 1,
   "id": "c8fe07c5-1f39-4a84-b004-139e9bb64bc8",
   "metadata": {},
   "outputs": [],
   "source": [
    "import numpy as np\n",
    "from sklearn.linear_model import LinearRegression\n",
    "from sklearn.preprocessing import StandardScaler"
   ]
  },
  {
   "cell_type": "markdown",
   "id": "2c866f10-cdc0-4d55-b4d0-6ecb56c67dc3",
   "metadata": {},
   "source": [
    "## Syntetic Data Generation"
   ]
  },
  {
   "cell_type": "code",
   "execution_count": 2,
   "id": "bf5c8c63-5239-4a61-ae01-f35b620d20cf",
   "metadata": {},
   "outputs": [],
   "source": [
    "true_b = 1\n",
    "true_w = 2\n",
    "N = 100\n",
    "\n",
    "# Data Generation\n",
    "np.random.seed(42)\n",
    "x = np.random.rand(N,1)\n",
    "epsilon = (.1 * np.random.randn(N,1))\n",
    "y = true_b + true_w * x + epsilon"
   ]
  },
  {
   "cell_type": "markdown",
   "id": "67fd66d8-11cc-477e-8e86-4850a4ff409c",
   "metadata": {},
   "source": [
    "## Train-Validation Split"
   ]
  },
  {
   "cell_type": "code",
   "execution_count": null,
   "id": "38ca1e22-0f02-48d8-98ff-e39b53becd50",
   "metadata": {},
   "outputs": [],
   "source": [
    "# Shuffle the indices\n",
    "idx = np.arange(N)\n",
    "np.random.shuffle(idx)\n",
    "\n",
    "# Use first 80 random indices for train\n",
    "train_idx = idx[:int(80)]\n"
   ]
  }
 ],
 "metadata": {
  "kernelspec": {
   "display_name": "Python 3 (ipykernel)",
   "language": "python",
   "name": "python3"
  },
  "language_info": {
   "codemirror_mode": {
    "name": "ipython",
    "version": 3
   },
   "file_extension": ".py",
   "mimetype": "text/x-python",
   "name": "python",
   "nbconvert_exporter": "python",
   "pygments_lexer": "ipython3",
   "version": "3.11.5"
  },
  "widgets": {
   "application/vnd.jupyter.widget-state+json": {
    "state": {},
    "version_major": 2,
    "version_minor": 0
   }
  }
 },
 "nbformat": 4,
 "nbformat_minor": 5
}
